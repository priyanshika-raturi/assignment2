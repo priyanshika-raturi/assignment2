{
  "nbformat": 4,
  "nbformat_minor": 0,
  "metadata": {
    "colab": {
      "provenance": []
    },
    "kernelspec": {
      "name": "python3",
      "display_name": "Python 3"
    },
    "language_info": {
      "name": "python"
    }
  },
  "cells": [
    {
      "cell_type": "markdown",
      "source": [],
      "metadata": {
        "id": "em0HS9veNWtR"
      }
    },
    {
      "cell_type": "markdown",
      "source": [
        "1.What are the data structure and why are they important?\n",
        "\n",
        "-Data structures is a way of organizing and storing data so that can be accessed and manipulate efficiently.\n",
        "Pyhton has built-in suppot for data structures like (strings,sets,lists,tuples,dictionaries,array).\n",
        "In python, data structures are important because:\n",
        "\n",
        "* Efficient data management: Data structures like tuples,lists sets and dictionaries helps us to store in a way that make it easy to process.\n",
        "\n",
        "* Faster program performance:Proper use of data structures improves the memory storage and usage of programs.\n",
        "\n",
        "* Solving Complex Problem:Advanced data structure like stacks, queues\n",
        ",trees ,heaps are used to solve complex problem such as:\n",
        "\n",
        "Undo opeartion\n",
        "Task scheduling\n",
        "\n",
        "2.Explain the difference between mutable and immutable data types with example?\n",
        "\n",
        "-Mutable Data types\n",
        "\n",
        ">These can be changed after they are created.\n",
        "\n",
        ">You can add,remove,or modify elements without creating a new object.\n",
        "\n",
        "Example:\n",
        "my_list=[1,2,3,4]\n",
        "print(id(my_list))\n",
        "my_list.append(5)\n",
        "print(my_list)\n",
        "print(id(my_list))\n",
        "\n",
        "Immutable Data Types\n",
        "\n",
        ">These cannot be changed once created.\n",
        "\n",
        ">Any modification will create a new object in memory.\n",
        "\n",
        "Example:\n",
        "\n",
        "my_str=\"Hello\"\n",
        "print(id(my_str))\n",
        "my_str +=\"world\"\n",
        "print(my_str)\n",
        "print(id(my_str))\n",
        "\n",
        "3.What are the main differences between lists and tuples in python?\n",
        "\n",
        "-Lists:\n",
        "\n",
        "-Lists can be changed by adding or removing elements(mutable).\n",
        "\n",
        "-Lists can be defined using square brackets[].\n",
        "\n",
        "-Lists has more built-in methods.(eg:.,append,remove)\n",
        "\n",
        "-Lists are slower due to dynamic size and mutability.\n",
        "\n",
        "-Use cases:Suitable for collection of items that may change.\n",
        "\n",
        "Tuples:\n",
        "\n",
        "-Tuples can't be changed by adding or removing elements(immutable).\n",
        "\n",
        "-Tuples can be defined using parantheses().\n",
        "\n",
        "-Tuples has fewer built-in methods.(eg.,count,index).\n",
        "\n",
        "-Tuples are faster due to static size and immutability.\n",
        "\n",
        "-Use cases:Ideal for fixed collections of items.\n",
        "\n",
        "\n",
        "4.Describe how dictionaries store data.\n",
        "\n",
        "-Dictionaries store data in form of key value pair.This data structure is implemented using a hash table.\n",
        "\n",
        "In dictionaries,keys must be unique and immutable.\n",
        "\n",
        "Dictionaries are written with curly brackets,and have key and values.\n",
        "\n",
        "student={\"name\":\"Priyanshi\",\"age\":21,\"course\":\"Python\"}\n",
        "\n",
        "where,\n",
        "\n",
        "    \"name\",\"age\",\"course\"-> keys\n",
        "    \"Priyanshi\",21,\"Python\" -> values\n",
        "\n",
        "use cases:\n",
        "phonebook={\"Dad\":1234,\"Mom\":4567}\n",
        "\n",
        "phonebook\n",
        "\n",
        "\n",
        "5.Why might you use a set instead of a list in python?\n",
        "\n",
        " -We use a set instead of a list when we want to store unique elements and don't care about their order.\n",
        "\n",
        " Sets are an unordered collection,when we access all items, thet are accessed without any specific order or we can't access items using indexes as we do in lists.\n",
        "\n",
        " A set automatically removes a duplicate values,while a list can contain duplicates .\n",
        "\n",
        " Sets are also fater than lists for chechking wether an item exists,because the use hashing internally.\n",
        "\n",
        " Sets do not support indexing or slicing.\n",
        "\n",
        "\n",
        " 6.What is a string in Python,and how it is different from a list?\n",
        "\n",
        " -String:\n",
        "\n",
        " - A string is a sequence of characters enclosed in single quotes'',double quotes\" \",or triple quotes ''' ''',\n",
        "\n",
        " - Strings are immutable, which means you can't change a string after it is created.\n",
        "\n",
        " - Use case: Text data\n",
        "\n",
        " Eg:.,name=\"Priyanshi\"\n",
        "\n",
        " List:\n",
        "\n",
        " -A list is a collection of items,which can be of any data type like numbers,strings,etc.\n",
        "\n",
        " =Lists are mutable, which means you can change,add,or remove elements after creation.\n",
        "\n",
        " -Use case: Collection of items\n",
        "\n",
        " Eg:.,fruits[\"apple\",\"mango\",\"grapes\"]\n",
        "\n",
        "\n",
        "7. How do tuples ensure data integrity in python?\n",
        "\n",
        "-Tuples in python ensure data integrity because they are immutable, which means once tuple is created ,elements can't be changed,added or removed.So it keeps improtant or fixed data safe.\n",
        "\n",
        "\n",
        "8.What is a hash table,and how does it relate to dictionaries in python?\n",
        "\n",
        "-Hash Table\n",
        "\n",
        "-A hash table is a data structure that stores data in key-value pairs.\n",
        "\n",
        "-This allows operations like insertion,deletion of data.\n",
        "\n",
        "-It uses a hash function to convert the key into an index in an internal array,so it accessed quickly.\n",
        "\n",
        "Python dictionaries are hash tables internally,which is why you can quickly look up,add or remove items using keys.\n",
        "\n",
        "\n",
        "9.Can lists contain different data types in python?\n",
        "\n",
        "-Yes, lists can contain different data types in python.\n",
        "In Python, lists is a collection of items that can store different types of data together.\n",
        "\n",
        "Python lists are flexible ,you can store integers ,floats,strings,booleans etc in same lists.\n",
        "\n",
        "Eg,.:my_list=[10,\"Hello\",2.1,True]\n",
        "\n",
        "So,lists in python are heterogenous,means they can hold multiple data types in the same list.\n",
        "\n",
        "\n",
        "10.Explain why strings are immutable in python.\n",
        "\n",
        "-Strings are immutable in python because they cannot be changed after they created.Strings are immutable by design to keep them safe,consistent and efficient.\n",
        "\n",
        "a.Save memory:\n",
        "When strings are reused,Python does not need to make new copies,which saves memory.\n",
        "\n",
        "b.Thread safety:\n",
        "Immutable strings are safe tio use in multiple threads because their values cannot be changed unexpectedly.\n",
        "\n",
        "\n",
        "11.What advantages do dictionaries offer over lists for certain task?\n",
        "\n",
        "-Advantages of dictionaries over lists:\n",
        "\n",
        "-Fast lookup by key:\n",
        "\n",
        "Dictionaries allow you to access values directly using keys,which is much faster than searching through a list.\n",
        "\n",
        "-Easy data updates:\n",
        "\n",
        "Dictionaries make it easy to update values associated withspecific keys.\n",
        "\n",
        "-Dictionaries are better for mapping relationships,like a name to a phone number.\n",
        "\n",
        "\n",
        "12.Describe a scenario where using a tuple would be preferable over a list.\n",
        "\n",
        "-Scenario where using a tuple would be preferable over a list:\n",
        "When you want to store data that should not be changed throughout the program,using a tuple is better.\n",
        "\n",
        "Eg,.Storing names of the days in a week\n",
        "\n",
        "days=(\"Monday\",\"Tuesday\",\"Wednesday\",\"Thursday\",\"Friday\",\"Saturday\",\"sunday\")\n",
        "here,using a tuple ensures that no one can modify or delete the days,which helps to maintain data integrity.\n",
        "\n",
        "\n",
        "13.How do sets handle duplicate values in python?\n",
        "\n",
        "-In python,sets automatically remove duplicate values.When you add the same element more than once to a set,it only keeps one copy of that element.\n",
        "\n",
        "Eg.,numbers={1,2,3,4,4}\n",
        "print(numbers)\n",
        "\n",
        "so,sets make sure that all elements are unique ,no matter how many times you try to add duplicates.\n",
        "\n",
        "\n",
        "14.How does'in'keyword work differently for lists and dictionaries?\n",
        "\n",
        "-The 'in' keyword in python functions differently for lists and dictionaries primarily in what it checks for and how efficiently it performs that check.\n",
        "\n",
        "for lists:\n",
        "\n",
        "1.Value check: The 'in' keyword checks if a value is present in the list.\n",
        "\n",
        "2.Iteration:The 'in' keyword iterates over the list elements to find a match.\n",
        "\n",
        "for dictionaries:\n",
        "\n",
        "1.Key check: The 'in'keyword checks if a key is present in the dictionary.\n",
        "\n",
        "2.Hash Table lookup: The 'in'keyword uses the dictionary's hash table to find a match.\n",
        "\n",
        "\n",
        "15.Can you modify the elements of a tuple?Explain why or why not.\n",
        "\n",
        "-No,the elements of a tuple cannot be modified because tuples are immutable in Pyhton .Once created their elements cannot be changed,added or removed.This immutability helps in maintaining data integrity and allows tuples to be used as keys in dictionaries.\n",
        "\n",
        "\n",
        "16.What is a nested dictionary,and give an example of its use cases?\n",
        "\n",
        "-A nested dictionary is a dictonary that contains another dictionary as a value.It helps organize complex or grouped data,like student details or product info into in a clean and structured way.\n",
        "Eg.,student={\n",
        "  \"name\":\"Priyanshi\",\"age\":18,\"marks\":{\"math\":90,\"science\":85,\"english\":75}}\n",
        "\n",
        "use cases of nested dictionary:\n",
        "\n",
        "1.To store student records,includin marks in diff subjects.\n",
        "\n",
        "2.To manage employee info inside an organisation\n",
        "\n",
        "employees={\"E101\":{\"name\":\"Rahul\":\"department\":\"IT\"},\n",
        "\n",
        "          {\"E102\":{\"name\":\"Neha\":\"department\":\"HR\"}}\n",
        "\n",
        "3.To store multiple user accounts in apps or websites.\n",
        "\n",
        "4.For representing JSON data from APIs and databases.\n",
        "\n",
        "\n",
        "17.Describe the time complexity of accessing elements in a dictionary.\n",
        "\n",
        "-Accessing elements in a Python dictionary is on average 0(1) because dictionaries use a hash table for storing key-value pairs.In the Worst case of hash collisions , the time complexity can become 0(n).\n",
        "\n",
        "\n",
        "18.In what situations are lists preferred over dictionaries.\n",
        "\n",
        "-Lists are generally pregerred when:\n",
        "\n",
        "1.Order of elements matters:\n",
        "If you need  to maintain the sequence of items and access them by position (index), a list is the best choice.\n",
        "\n",
        "2.Data does not need unique keys:\n",
        "List allow duplicate values,while dictionaries require unique keys.\n",
        "\n",
        "3.You only care about the values,not key-value pairs:\n",
        "List store single items , whereas dictionariesstore data as key-value pairs.When keys are unnecessary,lists are simpler.\n",
        "\n",
        "\n",
        "19.Why are dictionaries considered unordered,and how does that affect data retrieval?\n",
        "\n",
        "-Dictionaries are considered unordered because they don't maintain the order of insertion, as they use a hash table for fast key-based lookups rather than a sequence.This affects data retrieval because you cannot rely on getting items back in the orde they were added;instead you must use the key to access the correct value,which is a very fast operation.\n",
        "\n",
        "\n",
        "20.Explain the diff between a list and a dictionary in terms of data retrieval?\n",
        "\n",
        "list:\n",
        "-List is an ordered collection of items.\n",
        "\n",
        "-In list,data is accessed by index.\n",
        "\n",
        "-Access by index is fast(0(1)),but searching by value is slower (0(n)).\n",
        "\n",
        "-Eg.,fruits=[\"apple\",\"grapes\",\"cherry\"]\n",
        "fruits[1]gives grapes\n",
        "\n",
        "Dictionary:\n",
        "-Dictionary is a collection of key-value pairs.\n",
        "\n",
        "-In dictionary data is accessed by key.\n",
        "\n",
        "-Access by key is fast(0(1)) using hash tables.\n",
        "\n",
        "-Eg.,person={\"name:\"Alice\",\"age\":25}\n",
        "person{\"age\"} gives 25.\n",
        "\n",
        "\n",
        "\n",
        "\n",
        "\n"
      ],
      "metadata": {
        "id": "EONiwrNeEA1d"
      }
    },
    {
      "cell_type": "markdown",
      "source": [
        "1.Write a code to create a string with your name and print it?"
      ],
      "metadata": {
        "id": "EmlZp6REpKu9"
      }
    },
    {
      "cell_type": "code",
      "source": [
        "name=\"Priyanshi\"\n",
        "print(name)"
      ],
      "metadata": {
        "colab": {
          "base_uri": "https://localhost:8080/"
        },
        "id": "sQmSoYjXpaul",
        "outputId": "6f0efb79-e57d-484b-9138-4ceb978177f0"
      },
      "execution_count": null,
      "outputs": [
        {
          "output_type": "stream",
          "name": "stdout",
          "text": [
            "Priyanshi\n"
          ]
        }
      ]
    },
    {
      "cell_type": "markdown",
      "source": [
        "2.Write a code to find the length of the string \"Hello world\"."
      ],
      "metadata": {
        "id": "6vgsdamMpmQu"
      }
    },
    {
      "cell_type": "code",
      "source": [
        "text = \"Helloworld\"\n",
        "print(len(text))"
      ],
      "metadata": {
        "colab": {
          "base_uri": "https://localhost:8080/"
        },
        "id": "MUYT5sFfp1dV",
        "outputId": "61bc106b-b8f3-459b-a033-f950c2c3738e"
      },
      "execution_count": null,
      "outputs": [
        {
          "output_type": "stream",
          "name": "stdout",
          "text": [
            "10\n"
          ]
        }
      ]
    },
    {
      "cell_type": "markdown",
      "source": [
        "3.Write a code to slice the first 3 characters from the string\"Python Programming\"."
      ],
      "metadata": {
        "id": "OpNj2Wm6qLuo"
      }
    },
    {
      "cell_type": "code",
      "source": [
        "text=\"python programming\"\n",
        "first_three=text[:3]\n",
        "print(first_three)\n"
      ],
      "metadata": {
        "colab": {
          "base_uri": "https://localhost:8080/"
        },
        "id": "_bxp1cigqwom",
        "outputId": "ca1adf93-9bef-47b3-c82b-d98f7f45b587"
      },
      "execution_count": null,
      "outputs": [
        {
          "output_type": "stream",
          "name": "stdout",
          "text": [
            "pyt\n"
          ]
        }
      ]
    },
    {
      "cell_type": "markdown",
      "source": [
        "4.Write a code to convert the string \"hello\" to uppercase."
      ],
      "metadata": {
        "id": "pfqsawVUY6CQ"
      }
    },
    {
      "cell_type": "code",
      "source": [
        "text=\"hello\"\n",
        "print(text.upper())"
      ],
      "metadata": {
        "colab": {
          "base_uri": "https://localhost:8080/"
        },
        "id": "9wtcYutmZQwK",
        "outputId": "912bf3ff-262d-462a-d9a5-a761896a6293"
      },
      "execution_count": null,
      "outputs": [
        {
          "output_type": "stream",
          "name": "stdout",
          "text": [
            "HELLO\n"
          ]
        }
      ]
    },
    {
      "cell_type": "markdown",
      "source": [
        "5.Write a code to replace the word \"apple\" with \"oranges\" in the string \"i like apple\"."
      ],
      "metadata": {
        "id": "1dUmms0YZXpt"
      }
    },
    {
      "cell_type": "code",
      "source": [
        "text=\"i like apple\"\n",
        "new_text=text.replace(\"apple\",\"oranges\")\n",
        "print(new_text)"
      ],
      "metadata": {
        "colab": {
          "base_uri": "https://localhost:8080/"
        },
        "id": "nlh4wwERZn9P",
        "outputId": "16c0f55d-89e9-437e-cadc-666b166a1b92"
      },
      "execution_count": null,
      "outputs": [
        {
          "output_type": "stream",
          "name": "stdout",
          "text": [
            "i like oranges\n"
          ]
        }
      ]
    },
    {
      "cell_type": "markdown",
      "source": [
        "6.Write a code to create a list with numbers 1 to 5 and print it."
      ],
      "metadata": {
        "id": "Qy1Hkm60ZpAt"
      }
    },
    {
      "cell_type": "code",
      "source": [
        "numbers=[1,2,5]\n",
        "print(numbers)"
      ],
      "metadata": {
        "colab": {
          "base_uri": "https://localhost:8080/"
        },
        "id": "LMYVnGKGZ0Ku",
        "outputId": "9228328b-6bda-4c73-f0cc-ccc9f409d853"
      },
      "execution_count": null,
      "outputs": [
        {
          "output_type": "stream",
          "name": "stdout",
          "text": [
            "[1, 2, 5]\n"
          ]
        }
      ]
    },
    {
      "cell_type": "markdown",
      "source": [
        "7.Write a code to append the number 10 to the list[1,2,3,4]."
      ],
      "metadata": {
        "id": "_RbwV_5SZ00i"
      }
    },
    {
      "cell_type": "code",
      "source": [
        "numbers=[1,2,3,4]\n",
        "numbers.append(10)\n",
        "print(numbers)\n"
      ],
      "metadata": {
        "colab": {
          "base_uri": "https://localhost:8080/"
        },
        "id": "tiGvUKMzaGy2",
        "outputId": "22875a12-8d5b-4559-ee43-ceaf9458e7c3"
      },
      "execution_count": null,
      "outputs": [
        {
          "output_type": "stream",
          "name": "stdout",
          "text": [
            "[1, 2, 3, 4, 10]\n"
          ]
        }
      ]
    },
    {
      "cell_type": "markdown",
      "source": [
        "8.Write a code to remove the number 3 from the list[1,2,3,4,5]."
      ],
      "metadata": {
        "id": "lPtS8DkqaHou"
      }
    },
    {
      "cell_type": "code",
      "source": [
        "numbers=[1,2,3,4,5]\n",
        "numbers.remove(3)\n",
        "print(numbers)\n"
      ],
      "metadata": {
        "colab": {
          "base_uri": "https://localhost:8080/"
        },
        "id": "kOtzq-lLaWGp",
        "outputId": "fef2b258-7341-4e77-e843-cd19631c6aee"
      },
      "execution_count": null,
      "outputs": [
        {
          "output_type": "stream",
          "name": "stdout",
          "text": [
            "[1, 2, 4, 5]\n"
          ]
        }
      ]
    },
    {
      "cell_type": "markdown",
      "source": [
        "9.Write a code to access the second element in the list['a','b','c','d',]."
      ],
      "metadata": {
        "id": "rXH9H6AvaXGs"
      }
    },
    {
      "cell_type": "code",
      "source": [
        "letters=['a','b','c','d']\n",
        "print(letters[1])"
      ],
      "metadata": {
        "colab": {
          "base_uri": "https://localhost:8080/"
        },
        "id": "y6AmNqHzanXY",
        "outputId": "49f56ad2-c813-4480-8763-bdc0bb6c5f4d"
      },
      "execution_count": null,
      "outputs": [
        {
          "output_type": "stream",
          "name": "stdout",
          "text": [
            "b\n"
          ]
        }
      ]
    },
    {
      "cell_type": "markdown",
      "source": [
        "10.Write a code to reverse the list[10,20,30,40,50]."
      ],
      "metadata": {
        "id": "KMFu9JnGappj"
      }
    },
    {
      "cell_type": "code",
      "source": [
        "numbers=[10,20,30,40,50]\n",
        "numbers.reverse()\n",
        "print(numbers)"
      ],
      "metadata": {
        "colab": {
          "base_uri": "https://localhost:8080/"
        },
        "id": "lEJdKbZIa0LB",
        "outputId": "889bdca7-ff57-44e5-d127-f6f47e0e8949"
      },
      "execution_count": null,
      "outputs": [
        {
          "output_type": "stream",
          "name": "stdout",
          "text": [
            "[50, 40, 30, 20, 10]\n"
          ]
        }
      ]
    },
    {
      "cell_type": "markdown",
      "source": [
        "11.Write a code to create a tuple with the elements 100,200,300 and print it."
      ],
      "metadata": {
        "id": "2HmAMlu3a00R"
      }
    },
    {
      "cell_type": "code",
      "source": [
        "numbers=(100,200,300)\n",
        "print(numbers)"
      ],
      "metadata": {
        "colab": {
          "base_uri": "https://localhost:8080/"
        },
        "id": "dkhqbwfAbFJB",
        "outputId": "da35abc2-10e9-4ac0-e02a-ed5289599f9b"
      },
      "execution_count": null,
      "outputs": [
        {
          "output_type": "stream",
          "name": "stdout",
          "text": [
            "(100, 200, 300)\n"
          ]
        }
      ]
    },
    {
      "cell_type": "markdown",
      "source": [
        "12.Write a code to access the second-to-last element of the tuple('red','green','blue','yellow')."
      ],
      "metadata": {
        "id": "M8QB8RkhbFiK"
      }
    },
    {
      "cell_type": "code",
      "source": [
        "colors=('red','green','blue','yellow')\n",
        "print(colors[-2])"
      ],
      "metadata": {
        "colab": {
          "base_uri": "https://localhost:8080/"
        },
        "id": "OW9f10z1bfaC",
        "outputId": "51509cac-d577-40ca-86a6-98c8536559d6"
      },
      "execution_count": null,
      "outputs": [
        {
          "output_type": "stream",
          "name": "stdout",
          "text": [
            "blue\n"
          ]
        }
      ]
    },
    {
      "cell_type": "markdown",
      "source": [
        "13.Write a code to find the minimum number in the tuple(10,20,5,15)."
      ],
      "metadata": {
        "id": "RuOIXCKpbheY"
      }
    },
    {
      "cell_type": "code",
      "source": [
        "numbers=(10,20,5,15)\n",
        "print(min(numbers))"
      ],
      "metadata": {
        "colab": {
          "base_uri": "https://localhost:8080/"
        },
        "id": "FelWGr4Bb9xz",
        "outputId": "64e82a9b-f28c-414e-aaa0-45cdb974536b"
      },
      "execution_count": null,
      "outputs": [
        {
          "output_type": "stream",
          "name": "stdout",
          "text": [
            "5\n"
          ]
        }
      ]
    },
    {
      "cell_type": "markdown",
      "source": [
        "14.Write a code to find the index of the element 'cat'in the tuple('dog','cat','rabbit')."
      ],
      "metadata": {
        "id": "NkmQ1KzPb-X6"
      }
    },
    {
      "cell_type": "code",
      "source": [
        "animals=('dog','cat','rabbit')\n",
        "print(animals.index('cat'))"
      ],
      "metadata": {
        "colab": {
          "base_uri": "https://localhost:8080/"
        },
        "id": "FZeM7x0scQKI",
        "outputId": "cf799d3c-3248-4b93-d9e6-a0f101cd7cba"
      },
      "execution_count": null,
      "outputs": [
        {
          "output_type": "stream",
          "name": "stdout",
          "text": [
            "1\n"
          ]
        }
      ]
    },
    {
      "cell_type": "markdown",
      "source": [
        "15.Write a code to create a tuple containing three different fruits and check if 'kiwi'is in it."
      ],
      "metadata": {
        "id": "rKGSwsPqcQ24"
      }
    },
    {
      "cell_type": "code",
      "source": [
        "fruits=(\"apple\",\"banana\",\"mango\")\n",
        "if \"kiwi\" in fruits:\n",
        "  print(\"kiwi is in tuple\")\n",
        "else:\n",
        "  print(\"kiwi is not in tuple\")"
      ],
      "metadata": {
        "colab": {
          "base_uri": "https://localhost:8080/"
        },
        "id": "i8l0ac85cgZY",
        "outputId": "aac01d38-b4d1-4584-e0b3-971fd03d9f9b"
      },
      "execution_count": null,
      "outputs": [
        {
          "output_type": "stream",
          "name": "stdout",
          "text": [
            "kiwi is not in tuple\n"
          ]
        }
      ]
    },
    {
      "cell_type": "markdown",
      "source": [
        "16.Write a code to create a set with the elements'a','b','c',and print it."
      ],
      "metadata": {
        "id": "DcIAY4lbcg3F"
      }
    },
    {
      "cell_type": "code",
      "source": [
        "my_set={'a','b','c'}\n",
        "print(my_set)"
      ],
      "metadata": {
        "colab": {
          "base_uri": "https://localhost:8080/"
        },
        "id": "z9SD0weucuN7",
        "outputId": "d905c5b9-aba0-4762-de05-2e8e1beb8f6e"
      },
      "execution_count": null,
      "outputs": [
        {
          "output_type": "stream",
          "name": "stdout",
          "text": [
            "{'c', 'a', 'b'}\n"
          ]
        }
      ]
    },
    {
      "cell_type": "markdown",
      "source": [
        "17.Write a code to clear all elements from the set{1,2,3,4,5}."
      ],
      "metadata": {
        "id": "ES5X3KVpcwCu"
      }
    },
    {
      "cell_type": "code",
      "source": [
        "my_set={1,2,3,4,5}\n",
        "my_set.clear()\n",
        "print(my_set)\n"
      ],
      "metadata": {
        "colab": {
          "base_uri": "https://localhost:8080/"
        },
        "id": "S6Huu1fIc7i1",
        "outputId": "f2080605-5a91-4571-ab6f-203cc739d311"
      },
      "execution_count": null,
      "outputs": [
        {
          "output_type": "stream",
          "name": "stdout",
          "text": [
            "set()\n"
          ]
        }
      ]
    },
    {
      "cell_type": "markdown",
      "source": [
        "18.Write a code to remove the element 4 from the set {1,2,3,4}."
      ],
      "metadata": {
        "id": "a2ja8jS8c7_u"
      }
    },
    {
      "cell_type": "code",
      "source": [
        "my_set={1,2,3,4}\n",
        "my_set.remove(4)\n",
        "print(my_set)"
      ],
      "metadata": {
        "colab": {
          "base_uri": "https://localhost:8080/"
        },
        "id": "QP1QXK3FdInP",
        "outputId": "3b489d4c-c70b-4e6b-ab99-38fb8b541797"
      },
      "execution_count": null,
      "outputs": [
        {
          "output_type": "stream",
          "name": "stdout",
          "text": [
            "{1, 2, 3}\n"
          ]
        }
      ]
    },
    {
      "cell_type": "markdown",
      "source": [
        "19.Write a code to find the union of two sets {1,2,3}and{3,4,5}."
      ],
      "metadata": {
        "id": "D4mjj7vDkUYG"
      }
    },
    {
      "cell_type": "code",
      "source": [
        "set1 = {1, 2, 3}\n",
        "set2 = {3, 4, 5}\n",
        "union_set = set1.union(set2)\n",
        "print(union_set)"
      ],
      "metadata": {
        "colab": {
          "base_uri": "https://localhost:8080/"
        },
        "id": "MPGF30xtkoha",
        "outputId": "a378c577-7a4c-47fb-c54e-8846e985c118"
      },
      "execution_count": null,
      "outputs": [
        {
          "output_type": "stream",
          "name": "stdout",
          "text": [
            "{1, 2, 3, 4, 5}\n"
          ]
        }
      ]
    },
    {
      "cell_type": "markdown",
      "source": [
        "20.Write a code to find the intersection of two sets{1,2,3}and{2,3,4}."
      ],
      "metadata": {
        "id": "IdjKRMVbkp4W"
      }
    },
    {
      "cell_type": "code",
      "source": [
        "set1={1,2,3}\n",
        "set2={2,3,4}\n",
        "intersection=set1.intersection(set2)\n",
        "print(intersection)"
      ],
      "metadata": {
        "colab": {
          "base_uri": "https://localhost:8080/"
        },
        "id": "pWQlZs7mrhaP",
        "outputId": "16f8eafe-be5f-43e5-abad-27fd591cb619"
      },
      "execution_count": null,
      "outputs": [
        {
          "output_type": "stream",
          "name": "stdout",
          "text": [
            "{2, 3}\n"
          ]
        }
      ]
    },
    {
      "cell_type": "markdown",
      "source": [
        "21.Write a code to create a dictionary with the keys\"name\",\"age\"and \"city\",and print it.\n"
      ],
      "metadata": {
        "id": "DUNmru-rk7ka"
      }
    },
    {
      "cell_type": "code",
      "source": [
        "person={'name':'John','age':25,'city':'New York'}\n",
        "print(person)"
      ],
      "metadata": {
        "colab": {
          "base_uri": "https://localhost:8080/"
        },
        "id": "e2XXag63lRdZ",
        "outputId": "0fa4e74b-e56d-4bff-97c1-e84c7397c02f"
      },
      "execution_count": null,
      "outputs": [
        {
          "output_type": "stream",
          "name": "stdout",
          "text": [
            "{'name': 'John', 'age': 25, 'city': 'New York'}\n"
          ]
        }
      ]
    },
    {
      "cell_type": "markdown",
      "source": [
        "22.Write a code to add a new key-value pair\"country\":USA\" to the dictionary{'name':'John':'age':25}."
      ],
      "metadata": {
        "id": "pzRp58gmlR6x"
      }
    },
    {
      "cell_type": "code",
      "source": [
        "person={'name':'John','age':25}\n",
        "person['country']='USA'\n",
        "print(person)"
      ],
      "metadata": {
        "colab": {
          "base_uri": "https://localhost:8080/"
        },
        "id": "OnLgbTtLlxbg",
        "outputId": "bc39a922-9839-4e0f-f871-3db0a8ce96a4"
      },
      "execution_count": null,
      "outputs": [
        {
          "output_type": "stream",
          "name": "stdout",
          "text": [
            "{'name': 'John', 'age': 25, 'country': 'USA'}\n"
          ]
        }
      ]
    },
    {
      "cell_type": "markdown",
      "source": [
        "23.Write a code to access the value associated with key \"name\" in the dictionary {'name':'Alice','age':30}."
      ],
      "metadata": {
        "id": "W5CAzaYElyNN"
      }
    },
    {
      "cell_type": "code",
      "source": [
        "person={'name':'Alice','age':30}\n",
        "print(person['name'])\n"
      ],
      "metadata": {
        "colab": {
          "base_uri": "https://localhost:8080/"
        },
        "id": "5K6LNn80mN_b",
        "outputId": "5ad10ed4-5f4f-44c4-8784-36d3475145f1"
      },
      "execution_count": null,
      "outputs": [
        {
          "output_type": "stream",
          "name": "stdout",
          "text": [
            "Alice\n"
          ]
        }
      ]
    },
    {
      "cell_type": "markdown",
      "source": [
        "24.Write a code to remove the key\"age\" from the dictionary{'name':'Bob','age':22,'city':'New York'}."
      ],
      "metadata": {
        "id": "Qa7DO2PDmOoB"
      }
    },
    {
      "cell_type": "code",
      "source": [
        "person={'name':'Bob','age':22,'city':'New York'}\n",
        "person.pop('age')\n",
        "print(person)\n"
      ],
      "metadata": {
        "colab": {
          "base_uri": "https://localhost:8080/"
        },
        "id": "HTSDaflLo9hg",
        "outputId": "03f8c17a-084e-4570-aa23-e5b0acf2d529"
      },
      "execution_count": null,
      "outputs": [
        {
          "output_type": "stream",
          "name": "stdout",
          "text": [
            "{'name': 'Bob', 'city': 'New York'}\n"
          ]
        }
      ]
    },
    {
      "cell_type": "markdown",
      "source": [
        "25.Write a code to check if the key \"city\" exists in the dictionary{'name':'Alice','city':'Paris'}."
      ],
      "metadata": {
        "id": "0CZJs4S-m2Dd"
      }
    },
    {
      "cell_type": "code",
      "source": [
        "person = {'name': 'Alice', 'city': 'Paris'}\n",
        "if 'city' in person:\n",
        "    print(\"City exists in the dictionary\")"
      ],
      "metadata": {
        "colab": {
          "base_uri": "https://localhost:8080/"
        },
        "id": "A_3_AWhhnUf5",
        "outputId": "629e557f-824a-4a65-bac8-1e6656ee9b60"
      },
      "execution_count": null,
      "outputs": [
        {
          "output_type": "stream",
          "name": "stdout",
          "text": [
            "City exists in the dictionary\n"
          ]
        }
      ]
    },
    {
      "cell_type": "markdown",
      "source": [
        "26.Write a code to create a list, a tuple,and a dictionary and print them all."
      ],
      "metadata": {
        "id": "hEZD-SpbtlRs"
      }
    },
    {
      "cell_type": "code",
      "source": [
        "my_list=[\"apple\",\"banana\",\"cherry\"]\n",
        "my_tuple=(\"apple\",\"banana\",\"cherry\")\n",
        "my_dict={\"name\":\"John\",\"age\":25}\n",
        "print(\"List:\",my_list)\n",
        "print(\"Tuple:\",my_tuple)\n",
        "print(\"Dictionary:\",my_dict)"
      ],
      "metadata": {
        "colab": {
          "base_uri": "https://localhost:8080/"
        },
        "id": "ZwI4e9DhuC4D",
        "outputId": "21868b54-3009-417b-e732-455e7454f41a"
      },
      "execution_count": null,
      "outputs": [
        {
          "output_type": "stream",
          "name": "stdout",
          "text": [
            "List: ['apple', 'banana', 'cherry']\n",
            "Tuple: ('apple', 'banana', 'cherry')\n",
            "Dictionary: {'name': 'John', 'age': 25}\n"
          ]
        }
      ]
    },
    {
      "cell_type": "markdown",
      "source": [
        "27.Write a code to create a list of 5 random numbers between 1 and 100, and sort it in ascending order, and print the result(replaced)."
      ],
      "metadata": {
        "id": "79XIsjERu-y9"
      }
    },
    {
      "cell_type": "code",
      "source": [
        "import random\n",
        "random_numbers=[random.randint(1,100) for _ in range(5)]\n",
        "random_numbers.sort()\n",
        "print(\"sorted list:\",random_numbers)"
      ],
      "metadata": {
        "colab": {
          "base_uri": "https://localhost:8080/"
        },
        "id": "JKtp4XEivf0K",
        "outputId": "3b07568f-c5c0-4e28-ae96-1b6a6ef7d4da"
      },
      "execution_count": null,
      "outputs": [
        {
          "output_type": "stream",
          "name": "stdout",
          "text": [
            "sorted list: [3, 9, 11, 62, 68]\n"
          ]
        }
      ]
    },
    {
      "cell_type": "markdown",
      "source": [
        "28.Write a code to create a list with strings and print the element at the third index."
      ],
      "metadata": {
        "id": "OkmMLiP-wXD7"
      }
    },
    {
      "cell_type": "code",
      "source": [
        "my_list=[\"apple\",\"banana\",\"cherry\",\"date\",\"elderberry\"]\n",
        "index=int(input(\"enter the index:\"))\n",
        "if 0<=index<len(my_list):\n",
        "  print(\"element at index,index\",\"is:\",my_list[index])\n",
        "else:\n",
        "  print(\"invalid index\")"
      ],
      "metadata": {
        "colab": {
          "base_uri": "https://localhost:8080/"
        },
        "id": "c5gZiZYTwvMN",
        "outputId": "cd64048d-1d19-4326-8b0c-2f757974dff8"
      },
      "execution_count": null,
      "outputs": [
        {
          "output_type": "stream",
          "name": "stdout",
          "text": [
            "enter the index:2\n",
            "element at index,index is: cherry\n"
          ]
        }
      ]
    },
    {
      "cell_type": "markdown",
      "source": [
        "29.Write a code to combine two dictionaries into one and print the result."
      ],
      "metadata": {
        "id": "-U9gn_6OxtQb"
      }
    },
    {
      "cell_type": "code",
      "source": [
        "dict1={\"a\":1,\"b\":2}\n",
        "dict2={\"c\":3,\"d\":4}\n",
        "combined_dict={**dict1,**dict2}\n",
        "print(\"combined dictionary:\",combined_dict)"
      ],
      "metadata": {
        "colab": {
          "base_uri": "https://localhost:8080/"
        },
        "id": "2lHimpXKyNa7",
        "outputId": "adc50a49-0c4e-4a4e-ea20-4af36fff49cf"
      },
      "execution_count": null,
      "outputs": [
        {
          "output_type": "stream",
          "name": "stdout",
          "text": [
            "combined dictionary: {'a': 1, 'b': 2, 'c': 3, 'd': 4}\n"
          ]
        }
      ]
    },
    {
      "cell_type": "markdown",
      "source": [
        "30.Write a code to to convert a list of strings into a set."
      ],
      "metadata": {
        "id": "nEQSMfybytGB"
      }
    },
    {
      "cell_type": "code",
      "source": [
        "my_list=[\"apple\",\"banana\",\"orange\",\"cherry\",\"grapes\"]\n",
        "my_set=set(my_list)\n",
        "print(\"Set:\",my_set)"
      ],
      "metadata": {
        "colab": {
          "base_uri": "https://localhost:8080/"
        },
        "id": "yDQiPEnSy9c_",
        "outputId": "20071560-ba76-485d-f5bd-c3c85543f8a9"
      },
      "execution_count": null,
      "outputs": [
        {
          "output_type": "stream",
          "name": "stdout",
          "text": [
            "Set: {'apple', 'banana', 'orange', 'cherry', 'grapes'}\n"
          ]
        }
      ]
    }
  ]
}